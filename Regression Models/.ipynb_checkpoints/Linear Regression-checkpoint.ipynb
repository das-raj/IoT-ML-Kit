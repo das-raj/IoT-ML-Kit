{
 "cells": [
  {
   "cell_type": "code",
   "execution_count": 1,
   "metadata": {},
   "outputs": [],
   "source": [
    "import pandas as pd\n",
    "import numpy as np\n",
    "import matplotlib.pyplot as plt"
   ]
  },
  {
   "cell_type": "code",
   "execution_count": 2,
   "metadata": {},
   "outputs": [],
   "source": [
    "channel_id = '796949'\n",
    "field_no = '1'\n",
    "url_thingspeak = 'https://thingspeak.com/channels/'+channel_id+'/fields/'+field_no+'.csv'\n",
    "data = pd.read_csv(url_thingspeak)"
   ]
  },
  {
   "cell_type": "code",
   "execution_count": 3,
   "metadata": {},
   "outputs": [
    {
     "name": "stderr",
     "output_type": "stream",
     "text": [
      "C:\\Users\\Raj Chandvaniya\\Anaconda3\\lib\\site-packages\\ipykernel_launcher.py:6: SettingWithCopyWarning: \n",
      "A value is trying to be set on a copy of a slice from a DataFrame\n",
      "\n",
      "See the caveats in the documentation: http://pandas.pydata.org/pandas-docs/stable/indexing.html#indexing-view-versus-copy\n",
      "  \n"
     ]
    }
   ],
   "source": [
    "# Preprocessing string to timestamp\n",
    "import datetime\n",
    "#2019-06-03 10:47:42 UTC\n",
    "for i in range(len(data['created_at'])):\n",
    "    dt = datetime.datetime.strptime(data['created_at'][i], '%Y-%m-%d %H:%M:%S UTC')\n",
    "    data['created_at'][i] = dt.timestamp()"
   ]
  },
  {
   "cell_type": "code",
   "execution_count": 4,
   "metadata": {},
   "outputs": [],
   "source": [
    "#  (X, Y) - (Timestamp, Temperature)\n",
    "X = data['created_at'].to_numpy().reshape(-1,1)\n",
    "y = data['field1'].to_numpy().reshape(-1,1)"
   ]
  },
  {
   "cell_type": "code",
   "execution_count": 5,
   "metadata": {},
   "outputs": [],
   "source": [
    "\n",
    "# Splitting Data into Training & Testing\n",
    "# TODO Split in 80:20, i.e. 10 for test and 20 for training\n",
    "from sklearn.model_selection import train_test_split\n",
    "X_train, X_test, y_train, y_test = train_test_split(X, y, test_size = 1/3, random_state = 0)\n",
    "\n",
    "# WELL DONE! YOUR DATA IS PREPROCESSED"
   ]
  },
  {
   "cell_type": "code",
   "execution_count": 6,
   "metadata": {},
   "outputs": [
    {
     "data": {
      "text/plain": [
       "LinearRegression(copy_X=True, fit_intercept=True, n_jobs=None,\n",
       "         normalize=False)"
      ]
     },
     "execution_count": 6,
     "metadata": {},
     "output_type": "execute_result"
    }
   ],
   "source": [
    "# Fitting SIMPLE LINEAR REGRESSION to the Training Set\n",
    "from sklearn.linear_model import LinearRegression\n",
    "regressor = LinearRegression()\n",
    "regressor.fit(X_train, y_train)"
   ]
  },
  {
   "cell_type": "code",
   "execution_count": 7,
   "metadata": {},
   "outputs": [
    {
     "name": "stdout",
     "output_type": "stream",
     "text": [
      "PREDICTED\t\tACTUAL\n",
      "[36.5700599] \t [37.]\n",
      "[37.44549831] \t [36.]\n",
      "[36.2194943] \t [38.]\n",
      "[36.9928199] \t [37.]\n",
      "[37.28484951] \t [37.]\n",
      "[37.54826151] \t [37.]\n",
      "[36.4243703] \t [36.]\n",
      "[37.25558151] \t [37.]\n",
      "[36.9778607] \t [37.]\n",
      "[37.57687911] \t [37.]\n",
      "[36.9635519] \t [36.]\n",
      "[37.53330231] \t [36.]\n",
      "[37.32842631] \t [38.]\n",
      "[36.3801431] \t [36.]\n",
      "[36.2923391] \t [36.]\n",
      "[36.6279455] \t [36.]\n",
      "[36.5115239] \t [37.]\n",
      "[36.5407919] \t [37.]\n",
      "[36.6715223] \t [36.]\n",
      "[36.3072983] \t [36.]\n",
      "[36.8178623] \t [36.]\n",
      "[37.09493271] \t [37.]\n",
      "[36.2344535] \t [38.]\n",
      "[37.22631351] \t [36.]\n",
      "[36.8464799] \t [36.]\n",
      "[36.8913575] \t [37.]\n",
      "[36.2780303] \t [36.]\n",
      "[37.63541511] \t [36.]\n",
      "[37.38696231] \t [39.]\n",
      "[37.29915831] \t [37.]\n",
      "[37.0656647] \t [37.]\n",
      "[37.35769431] \t [37.]\n",
      "[37.50403431] \t [38.]\n",
      "[37.18208631] \t [37.]\n"
     ]
    }
   ],
   "source": [
    "# Predicting the Test set results\n",
    "y_pred = regressor.predict(X_test)\n",
    "\n",
    "print('PREDICTED\\t\\tACTUAL')\n",
    "for i in range(len(y_pred)):\n",
    "    print(y_pred[i], '\\t', y_train[i])"
   ]
  },
  {
   "cell_type": "code",
   "execution_count": 9,
   "metadata": {},
   "outputs": [
    {
     "data": {
      "image/png": "[encoded data removed]",
      "text/plain": [
       "<Figure size 432x288 with 1 Axes>"
      ]
     },
     "metadata": {
      "needs_background": "light"
     },
     "output_type": "display_data"
    }
   ],
   "source": [
    "# Visualising the Training set results\n",
    "# X axis = Employee Experience\n",
    "# Y axis = Employee Salary\n",
    "plt.scatter(X_train, y_train, color='red', label='predicted')\n",
    "plt.plot(X_train, regressor.predict(X_train), color='blue', label='actual')\n",
    "plt.title('Linear Regression')\n",
    "plt.xlabel('Timestamp')\n",
    "plt.ylabel('Temperature')\n",
    "plt.legend(loc='upper left', numpoints=1)\n",
    "plt.show()"
   ]
  },
  {
   "cell_type": "code",
   "execution_count": null,
   "metadata": {},
   "outputs": [],
   "source": []
  },
  {
   "cell_type": "code",
   "execution_count": null,
   "metadata": {},
   "outputs": [],
   "source": []
  }
 ],
 "metadata": {
  "kernelspec": {
   "display_name": "Python 3",
   "language": "python",
   "name": "python3"
  },
  "language_info": {
   "codemirror_mode": {
    "name": "ipython",
    "version": 3
   },
   "file_extension": ".py",
   "mimetype": "text/x-python",
   "name": "python",
   "nbconvert_exporter": "python",
   "pygments_lexer": "ipython3",
   "version": "3.7.3"
  }
 },
 "nbformat": 4,
 "nbformat_minor": 2
}
